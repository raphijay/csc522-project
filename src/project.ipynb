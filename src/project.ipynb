{
 "cells": [
  {
   "attachments": {},
   "cell_type": "markdown",
   "metadata": {
    "pycharm": {
     "name": "#%% md\n"
    }
   },
   "source": [
    "# CSC 522 Project \n",
    "_by Team 21: Raphael Phillips (rjphill4), Sogolsadat Mansouri (smansou2), Rithik Jain (rjain25), and Neeloy Gomes (ntgomes)_\n",
    "\n",
    "This project will involve developing a machine learning model using supervised learning to predict future exchange rates for a specific currency pair, based on historical exchange rate data and other relevant features.\n"
   ]
  },
  {
   "cell_type": "code",
   "execution_count": 11,
   "metadata": {
    "pycharm": {
     "name": "#%%\n"
    }
   },
   "outputs": [
    {
     "ename": "TypeError",
     "evalue": "Index.drop() got an unexpected keyword argument 'columns'",
     "output_type": "error",
     "traceback": [
      "\u001b[1;31m---------------------------------------------------------------------------\u001b[0m",
      "\u001b[1;31mTypeError\u001b[0m                                 Traceback (most recent call last)",
      "Cell \u001b[1;32mIn[11], line 8\u001b[0m\n\u001b[0;32m      5\u001b[0m usdinr_df \u001b[39m=\u001b[39m usdinr_df\u001b[39m.\u001b[39mcolumns\u001b[39m.\u001b[39mstr\u001b[39m.\u001b[39mlower()\n\u001b[0;32m      6\u001b[0m forex_df \u001b[39m=\u001b[39m forex_df\u001b[39m.\u001b[39mcolumns\u001b[39m.\u001b[39mstr\u001b[39m.\u001b[39mlower()\n\u001b[1;32m----> 8\u001b[0m cleaned_usdinr_df \u001b[39m=\u001b[39m pre_p_usdinr(usdinr_df)\n\u001b[0;32m      9\u001b[0m cleaned_forex_df \u001b[39m=\u001b[39m pre_p_forex(forex_df)\n\u001b[0;32m     11\u001b[0m \u001b[39mprint\u001b[39m(\u001b[39m'\u001b[39m\u001b[39mCleaned \u001b[39m\u001b[39m'\u001b[39m \u001b[39m+\u001b[39m \u001b[39mstr\u001b[39m(\u001b[39mlen\u001b[39m(forex_df\u001b[39m.\u001b[39mindex) \u001b[39m-\u001b[39m \u001b[39mlen\u001b[39m(cleaned_forex_df\u001b[39m.\u001b[39mindex)) \u001b[39m+\u001b[39m \u001b[39m'\u001b[39m\u001b[39m rows from data/forex.csv\u001b[39m\u001b[39m'\u001b[39m)\n",
      "File \u001b[1;32m~\\data-analysis\\csc522-project\\src\\pre_processing.py:50\u001b[0m, in \u001b[0;36mpre_p_usdinr\u001b[1;34m(data)\u001b[0m\n\u001b[0;32m     47\u001b[0m newdata\u001b[39m.\u001b[39mdropna()\n\u001b[0;32m     49\u001b[0m \u001b[39m# Drop certain columns here\u001b[39;00m\n\u001b[1;32m---> 50\u001b[0m newdata\u001b[39m.\u001b[39;49mdrop(columns\u001b[39m=\u001b[39;49m[\u001b[39m'\u001b[39;49m\u001b[39mVolume\u001b[39;49m\u001b[39m'\u001b[39;49m, \u001b[39m'\u001b[39;49m\u001b[39mAdj Close\u001b[39;49m\u001b[39m'\u001b[39;49m])\n\u001b[0;32m     52\u001b[0m \u001b[39m# Encoding all dates into an integer based on days since epoch (1/1/1970)\u001b[39;00m\n\u001b[0;32m     53\u001b[0m newdata[\u001b[39m'\u001b[39m\u001b[39mDate\u001b[39m\u001b[39m'\u001b[39m] \u001b[39m=\u001b[39m newdata[\u001b[39m'\u001b[39m\u001b[39mDate\u001b[39m\u001b[39m'\u001b[39m]\u001b[39m.\u001b[39mapply(epoch_days)\n",
      "\u001b[1;31mTypeError\u001b[0m: Index.drop() got an unexpected keyword argument 'columns'"
     ]
    }
   ],
   "source": [
    "%run pre_processing.py\n",
    "\n",
    "usdinr_df = pd.read_csv('../data/USDINRX.csv')\n",
    "forex_df = pd.read_csv('../data/forex.csv')\n",
    "\n",
    "cleaned_usdinr_df = pre_p_usdinr(usdinr_df)\n",
    "cleaned_forex_df = pre_p_forex(forex_df)\n",
    "\n",
    "print('Cleaned ' + str(len(forex_df.index) - len(cleaned_forex_df.index)) + ' rows from data/forex.csv')\n",
    "print('Cleaned ' + str(len(usdinr_df.index) - len(cleaned_usdinr_df.index)) + ' rows from data/USDINRX.csv')\n"
   ]
  },
  {
   "cell_type": "code",
   "execution_count": null,
   "metadata": {},
   "outputs": [],
   "source": [
    "%run exploratory_analysis.py\n",
    "\n",
    "# do_analysis()"
   ]
  }
 ],
 "metadata": {
  "kernelspec": {
   "display_name": "Python 3",
   "language": "python",
   "name": "python3"
  },
  "language_info": {
   "codemirror_mode": {
    "name": "ipython",
    "version": 3
   },
   "file_extension": ".py",
   "mimetype": "text/x-python",
   "name": "python",
   "nbconvert_exporter": "python",
   "pygments_lexer": "ipython3",
   "version": "3.11.2"
  },
  "orig_nbformat": 4
 },
 "nbformat": 4,
 "nbformat_minor": 2
}
