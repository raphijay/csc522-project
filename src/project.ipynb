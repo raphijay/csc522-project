{
 "cells": [
  {
   "attachments": {},
   "cell_type": "markdown",
   "metadata": {},
   "source": [
    "# CSC 522 Project \n",
    "_by Team 21: Raphael Phillips (rjphill4), Sogolsadat Mansouri (smansou2), Rithik Jain (rjain25), and Neeloy Gomes (ntgomes)_\n",
    "\n",
    "This project will involve developing a machine learning model using supervised learning to predict future exchange rates for a specific currency pair, based on historical exchange rate data and other relevant features.\n"
   ]
  },
  {
   "cell_type": "code",
   "execution_count": null,
   "metadata": {},
   "outputs": [],
   "source": [
    "# TODO: Remove this block once everyone is building off from the changes on this branch \n",
    "# (i.e. merged to main and everyone is branching from there)\n",
    "\n",
    "# Running a script that does something for this project.\n",
    "# This will keep our changes modular - someone will make their own python file that has all the functions they need to\n",
    "# for some part of the data analysis/machine learning process. That file should only have function definitions (for\n",
    "# debugging, you can call those functions here or in your file directly).\n",
    "%run sample.py\n",
    "\n",
    "# Now that I ran that python script, I can now run the function that was defined in it below:\n",
    "get_max_from_list([1, 2, 3])"
   ]
  },
  {
   "cell_type": "code",
   "execution_count": null,
   "metadata": {},
   "outputs": [],
   "source": [
    "%run data_cleaner.py\n",
    "\n",
    "uscinrx_df = pd.read_csv('../data/USDINRX.csv')\n",
    "cleaned_uscinrx_df = remove_rows_with_null_values(uscinrx_df)\n",
    "print('Cleaned ' + str(len(uscinrx_df.index) - len(cleaned_uscinrx_df.index)) + ' rows from data/USDINRX.csv')\n",
    "\n",
    "forex_df = pd.read_csv('../data/forex.csv')\n",
    "cleaned_forex_df = remove_rows_with_null_values(forex_df)\n",
    "print('Cleaned ' + str(len(forex_df.index) - len(cleaned_forex_df.index)) + ' rows from data/forex.csv')"
   ]
  }
 ],
 "metadata": {
  "kernelspec": {
   "display_name": "Python 3",
   "language": "python",
   "name": "python3"
  },
  "language_info": {
   "codemirror_mode": {
    "name": "ipython",
    "version": 3
   },
   "file_extension": ".py",
   "mimetype": "text/x-python",
   "name": "python",
   "nbconvert_exporter": "python",
   "pygments_lexer": "ipython3",
   "version": "3.10.1"
  },
  "orig_nbformat": 4
 },
 "nbformat": 4,
 "nbformat_minor": 2
}
