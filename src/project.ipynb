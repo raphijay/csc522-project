{
 "cells": [
  {
   "attachments": {},
   "cell_type": "markdown",
   "metadata": {
    "pycharm": {
     "name": "#%% md\n"
    }
   },
   "source": [
    "# CSC 522 Project \n",
    "_by Team 21: Raphael Phillips (rjphill4), Sogolsadat Mansouri (smansou2), Rithik Jain (rjain25), and Neeloy Gomes (ntgomes)_\n",
    "\n",
    "This project will involve developing a machine learning model using supervised learning to predict future exchange rates for a specific currency pair, based on historical exchange rate data and other relevant features.\n"
   ]
  },
  {
   "cell_type": "code",
   "execution_count": 1,
   "metadata": {
    "pycharm": {
     "name": "#%%\n"
    }
   },
   "outputs": [
    {
     "name": "stdout",
     "output_type": "stream",
     "text": [
      "Cleaned 52 rows from data/USDINRX.csv\n",
      "Cleaned 0 rows from data/forex.csv\n"
     ]
    }
   ],
   "source": [
    "%run pre_processing.py\n",
    "\n",
    "usdinr_df = pd.read_csv('../data/USDINRX.csv')\n",
    "forex_df = pd.read_csv('../data/forex.csv')\n",
    "\n",
    "cleaned_usdinr_df = preprocess(usdinr_df)\n",
    "cleaned_forex_df = preprocess(forex_df)\n",
    "\n",
    "print('Cleaned ' + str(len(forex_df.index) - len(cleaned_forex_df.index)) + ' rows from data/forex.csv')\n",
    "print('Cleaned ' + str(len(uscinrx_df.index) - len(cleaned_uscinrx_df.index)) + ' rows from data/USDINRX.csv')\n"
   ]
  },
  {
   "cell_type": "code",
   "execution_count": 2,
   "metadata": {},
   "outputs": [],
   "source": [
    "%run exploratory_analysis.py\n",
    "\n",
    "# do_analysis()"
   ]
  }
 ],
 "metadata": {
  "kernelspec": {
   "display_name": "Python 3",
   "language": "python",
   "name": "python3"
  },
  "language_info": {
   "codemirror_mode": {
    "name": "ipython",
    "version": 3
   },
   "file_extension": ".py",
   "mimetype": "text/x-python",
   "name": "python",
   "nbconvert_exporter": "python",
   "pygments_lexer": "ipython3",
   "version": "3.11.2"
  },
  "orig_nbformat": 4
 },
 "nbformat": 4,
 "nbformat_minor": 2
}
