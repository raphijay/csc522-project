{
 "cells": [
  {
   "attachments": {},
   "cell_type": "markdown",
   "metadata": {
    "pycharm": {
     "name": "#%% md\n"
    }
   },
   "source": [
    "# CSC 522 Project \n",
    "_by Team 21: Raphael Phillips (rjphill4), Sogolsadat Mansouri (smansou2), Rithik Jain (rjain25), and Neeloy Gomes (ntgomes)_\n",
    "\n",
    "This project will involve developing a machine learning model using supervised learning to predict future exchange rates for a specific currency pair, based on historical exchange rate data and other relevant features.\n"
   ]
  },
  {
   "cell_type": "code",
   "execution_count": null,
   "metadata": {
    "pycharm": {
     "name": "#%%\n"
    }
   },
   "outputs": [],
   "source": [
    "%run pre_processing.py\n",
    "\n",
    "usdinr_df = pd.read_csv('../data/USDINRX.csv')\n",
    "forex_df = pd.read_csv('../data/forex.csv')\n",
    "\n",
    "print('Instantiated the input CSVs as dataframes')\n",
    "\n",
    "cleaned_usdinr_df = pre_p_usdinr(usdinr_df)\n",
    "cleaned_forex_df = pre_p_forex(forex_df)\n",
    "\n",
    "print('Cleaned ' + str(len(forex_df.index) - len(cleaned_forex_df.index)) + ' rows from data/forex.csv')\n",
    "print('Cleaned ' + str(len(usdinr_df.index) - len(cleaned_usdinr_df.index)) + ' rows from data/USDINRX.csv')"
   ]
  },
  {
   "cell_type": "code",
   "execution_count": null,
   "metadata": {},
   "outputs": [],
   "source": [
    "merged_df = merge(cleaned_forex_df, cleaned_usdinr_df)\n",
    "print('Merged the two datasets')\n",
    "merged_df"
   ]
  },
  {
   "cell_type": "code",
   "execution_count": null,
   "metadata": {},
   "outputs": [],
   "source": [
    "merged_x_train, merged_x_test, merged_y_train, merged_y_test = split(merged_df)\n",
    "print('Merged and did the train/test split of the datasets')"
   ]
  },
  {
   "cell_type": "code",
   "execution_count": 6,
   "metadata": {},
   "outputs": [],
   "source": [
    "%run lstm_rnn.py\n",
    "%run rand_network_ensemble.py\n",
    "\n",
    "lstm_args = { \n",
    "    \"input_shape\": (len(merged_x_train.to_numpy()), len(merged_x_train.to_numpy()[0])), \n",
    "    \"lstm_units\": 32, \n",
    "    \"dense_units\": 16, \n",
    "    \"output_shape\": (1,) \n",
    "}\n",
    "ensembler = RandomNetworkEnsemble(num_networks = 2, base_nn_model = CustomLSTM, model_args = lstm_args, random_seed = 522)\n",
    "\n",
    "ensembler.train(merged_x_train.to_numpy(), merged_y_train.to_numpy())\n",
    "predicted_target = ensembler.predict(merged_x_test.iloc[1: , :].to_numpy()) # Have to do .iloc[1: , :] to keep row numbers the same"
   ]
  },
  {
   "cell_type": "code",
   "execution_count": null,
   "metadata": {},
   "outputs": [],
   "source": [
    "#print('RMSE of tuned model\\'s predictions: ' + ensembler.calculate_rmse_of_predicted(merged_y_test.iloc[1: , :].to_numpy(), predicted_target))\n",
    "\n",
    "predicted_target"
   ]
  }
 ],
 "metadata": {
  "kernelspec": {
   "display_name": "Python 3",
   "language": "python",
   "name": "python3"
  },
  "language_info": {
   "codemirror_mode": {
    "name": "ipython",
    "version": 3
   },
   "file_extension": ".py",
   "mimetype": "text/x-python",
   "name": "python",
   "nbconvert_exporter": "python",
   "pygments_lexer": "ipython3",
   "version": "3.10.1"
  },
  "orig_nbformat": 4
 },
 "nbformat": 4,
 "nbformat_minor": 2
}
